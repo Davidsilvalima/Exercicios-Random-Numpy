{
  "nbformat": 4,
  "nbformat_minor": 0,
  "metadata": {
    "colab": {
      "name": "Random Numpy.ipynb",
      "provenance": [],
      "collapsed_sections": []
    },
    "kernelspec": {
      "name": "python3",
      "display_name": "Python 3"
    },
    "language_info": {
      "name": "python"
    }
  },
  "cells": [
    {
      "cell_type": "markdown",
      "source": [
        "# 1) Gere uma distribuição normal aleatória de ordem 4 x 5. Armazene o resultado em uma variável."
      ],
      "metadata": {
        "id": "CdFbQZRZEF5n"
      }
    },
    {
      "cell_type": "code",
      "source": [
        "\n",
        "from numpy import random\n",
        "data = random.normal(size = (4, 5))\n",
        "print(data)"
      ],
      "metadata": {
        "colab": {
          "base_uri": "https://localhost:8080/"
        },
        "id": "9U1x4Nd_ERJn",
        "outputId": "d326a7ae-513d-4b46-fcfe-b127f77780d4"
      },
      "execution_count": null,
      "outputs": [
        {
          "output_type": "stream",
          "name": "stdout",
          "text": [
            "[[-0.27344808 -0.7338895   1.37963681 -0.31965963 -0.62316829]\n",
            " [-0.1665406   0.10806667  0.36998449  0.88548028 -0.59794392]\n",
            " [ 2.64659542  0.5329652  -0.65320146 -0.57790156  0.82501424]\n",
            " [-1.84129629 -0.42793184  0.94685165 -1.21187811  1.29667142]]\n"
          ]
        }
      ]
    },
    {
      "cell_type": "markdown",
      "source": [
        "# 2) Gere uma distribuição normal aleatória com de ordem 20 x 5, com média 10 e desvio padrão 3. Armazene o resultado em uma variável. Em seguida crie um DataFrame a partir dos dados criados."
      ],
      "metadata": {
        "id": "-xysG6jWFAQY"
      }
    },
    {
      "cell_type": "code",
      "source": [
        "import pandas as pd \n",
        "from numpy import random \n",
        "media = 10 \n",
        "desvio_padrao = 3\n",
        "data = random.normal(loc = media,\n",
        "                     scale = desvio_padrao, size = (20,5))\n",
        "print(data)\n",
        "print(desvio_padrao)\n",
        "print(media)"
      ],
      "metadata": {
        "colab": {
          "base_uri": "https://localhost:8080/"
        },
        "id": "5hlMexHxFDBi",
        "outputId": "a8d210db-e2a5-4110-8e3a-3270f1594f0d"
      },
      "execution_count": null,
      "outputs": [
        {
          "output_type": "stream",
          "name": "stdout",
          "text": [
            "[[11.50443775 12.39685003 13.96513887 13.17166202  7.23442343]\n",
            " [ 7.36124643  4.98122966  8.48833488  9.81606254  9.13703439]\n",
            " [13.04733796 11.8985267   9.2623501  12.67237597 13.54298141]\n",
            " [14.2428689  11.47036307  7.19243226 10.39000429 13.11255445]\n",
            " [14.08036737 13.53754862 11.03008359 13.85752587 10.96478575]\n",
            " [12.26192227 16.99772613 10.6143311  12.95452232  7.86141635]\n",
            " [ 7.01088204 10.42745318 14.54808231  4.60399064 16.98539875]\n",
            " [ 9.87104574 16.06774588 11.51900186  9.83933288  8.50368002]\n",
            " [ 8.55261252  8.27429809  9.90617717  7.46011729 12.7776133 ]\n",
            " [ 8.66016914  6.41890042 10.69692058 13.62355216  9.8646842 ]\n",
            " [ 7.0332787   9.63072067 11.84995529  8.07117616  7.95900922]\n",
            " [ 5.53513036  8.48200216  8.63523095  6.70641639  8.39474546]\n",
            " [14.2026806   6.68779864 10.10740056 13.7134774   7.55549427]\n",
            " [ 9.1111691   5.59238878  7.36422875 12.08428866  6.61621209]\n",
            " [12.58921084 10.56770773 11.58301952  8.11434766 10.0922951 ]\n",
            " [ 8.11624025  6.93312305 12.47008425 12.19079377 13.72368537]\n",
            " [ 7.9035572   9.88182842  7.9727884  11.10275686 12.06443194]\n",
            " [12.03850018  9.50446078  8.69978623 18.70482636  9.6597275 ]\n",
            " [ 8.02898791  9.85656408 10.18558517 10.06758091  5.11729813]\n",
            " [12.99110579 10.40248901 12.8036576   7.29963995  5.87524679]]\n",
            "3\n",
            "10\n"
          ]
        }
      ]
    },
    {
      "cell_type": "markdown",
      "source": [
        "# 3) Gere uma distribuição normal padrão e utilize o módulo Seaborn para construir uma visualização dos dados. A amostra deve conter 3000 números. Use a função distplot() do módulo Seaborn e importe também"
      ],
      "metadata": {
        "id": "eoi-7Xs6GIrA"
      }
    },
    {
      "cell_type": "code",
      "source": [
        "import matplotlib.pyplot as plt\n",
        "import seaborn as sns \n",
        "from numpy import random \n",
        "data = random.normal( size = 3000)\n",
        "sns.displot(data, kind = 'kde')\n",
        "plt.show()"
      ],
      "metadata": {
        "colab": {
          "base_uri": "https://localhost:8080/",
          "height": 369
        },
        "id": "8lzsWp1FGNhM",
        "outputId": "c5a0656f-e345-4591-a70a-ce07ae3c1f3d"
      },
      "execution_count": null,
      "outputs": [
        {
          "output_type": "display_data",
          "data": {
            "image/png": "[encoded data removed]",
            "text/plain": [
              "<Figure size 360x360 with 1 Axes>"
            ]
          },
          "metadata": {
            "needs_background": "light"
          }
        }
      ]
    },
    {
      "cell_type": "code",
      "source": [
        "sns.displot(data, kind = 'hist')\n",
        "plt.show()"
      ],
      "metadata": {
        "colab": {
          "base_uri": "https://localhost:8080/",
          "height": 369
        },
        "id": "Y0TAIefyG9mo",
        "outputId": "63f4bd94-6b20-4872-e0be-6d05c43962e8"
      },
      "execution_count": null,
      "outputs": [
        {
          "output_type": "display_data",
          "data": {
            "image/png": "[encoded data removed]",
            "text/plain": [
              "<Figure size 360x360 with 1 Axes>"
            ]
          },
          "metadata": {
            "needs_background": "light"
          }
        }
      ]
    },
    {
      "cell_type": "markdown",
      "source": [
        "# 4) A distribuição binomial é uma distribuição discreta de probabilidade e descreve resultados binários, como sucesso e fracasso ou cara e coroa, por exemplo. Podemos criar dados aleatórios para esta distribuição com a função np.random.binomial().Sendo:\n",
        "## n: número de tentativas;\n",
        "##p: probabilidade de ocorrência de cada tentativa;\n",
        "##size: tamanho do vetor retornado (shape).\n",
        "# Com base nestas informações:\n",
        "## Gere números aleatórios seguindo uma distribuição binomial, com 6 tentativas, em que a probabilidade de ocorrência de cada tentativa é 0.5, e tamanho 100. Armazene os dados em uma variável, 'data1'.\n",
        "## Gere números aleatórios seguindo uma distribuição binomial, com 2 tentativas, em que a probabilidade de ocorrência de cada tentativa é 0.8, e tamanho 1000. Armazene os dados em uma variável, 'data2'."
      ],
      "metadata": {
        "id": "dXfJ7AfpHKu3"
      }
    },
    {
      "cell_type": "code",
      "source": [
        "n1, p1 = 6, 0.5\n",
        "data1 = random.binomial(n1, p1, size = 100)\n",
        "n2, p2 = 1, 0.8\n",
        "data2 = random.binomial(n2, p2, size = 1000)\n",
        "print(data1)\n",
        "print(data2)"
      ],
      "metadata": {
        "colab": {
          "base_uri": "https://localhost:8080/"
        },
        "id": "bvbZRkrrHu0B",
        "outputId": "61e47fa9-c78b-493b-b8b2-043249f5f879"
      },
      "execution_count": null,
      "outputs": [
        {
          "output_type": "stream",
          "name": "stdout",
          "text": [
            "[3 3 3 3 1 3 3 4 2 4 1 6 3 2 3 3 4 3 3 1 2 2 3 5 2 4 1 4 3 2 3 4 3 1 5 4 3\n",
            " 3 3 2 5 2 3 3 4 5 1 3 2 3 4 4 6 3 4 3 3 2 4 3 4 1 2 2 4 3 5 3 3 2 2 3 3 4\n",
            " 3 4 3 5 4 1 4 4 2 2 5 2 3 5 2 1 3 4 3 3 3 5 3 4 3 3]\n",
            "[1 0 1 1 0 1 1 1 1 0 0 1 0 0 1 1 1 0 1 0 0 0 1 1 1 1 1 1 1 1 0 1 0 1 1 1 1\n",
            " 1 1 0 1 1 1 1 1 0 0 1 1 1 1 0 1 0 1 1 0 1 1 0 1 1 1 1 1 1 1 1 1 1 0 0 1 1\n",
            " 1 1 1 0 1 0 1 1 1 1 1 1 1 0 1 1 1 0 1 1 1 1 1 0 0 1 0 1 0 1 1 1 0 1 1 1 1\n",
            " 1 1 1 1 0 0 1 1 0 1 1 0 1 1 1 1 1 1 1 1 0 1 1 1 1 1 1 0 1 1 1 1 1 1 1 1 1\n",
            " 1 1 1 1 1 1 0 1 1 0 1 1 1 0 1 0 0 1 1 1 1 1 1 1 1 1 1 1 1 1 1 0 1 0 1 1 0\n",
            " 1 0 1 1 1 1 1 1 1 1 1 1 0 1 1 1 1 1 1 0 1 1 0 1 1 1 1 1 1 1 1 1 1 1 0 1 1\n",
            " 0 1 0 0 1 1 0 1 0 1 1 0 1 0 1 1 0 1 0 1 1 1 1 1 1 1 0 0 1 1 1 1 1 0 0 1 1\n",
            " 0 1 1 1 0 1 1 1 1 0 1 1 1 1 1 1 1 1 1 1 0 1 1 1 1 1 1 1 1 1 0 1 0 1 1 0 1\n",
            " 1 1 0 1 1 1 1 1 0 1 1 0 1 1 1 1 1 1 1 0 1 1 0 0 1 1 1 1 1 1 1 1 1 1 1 0 1\n",
            " 1 1 1 1 1 1 1 1 1 1 1 1 1 0 0 1 1 1 0 1 0 1 1 1 1 1 1 1 1 1 1 1 1 1 1 1 0\n",
            " 1 1 1 0 0 1 1 1 0 1 1 1 1 1 1 1 0 1 1 1 0 0 1 1 0 1 1 1 0 0 1 1 1 0 0 0 1\n",
            " 1 1 1 1 1 1 0 1 1 1 0 1 1 1 1 1 0 1 1 1 1 1 0 1 1 0 1 1 1 1 1 1 1 1 1 1 1\n",
            " 1 1 0 1 1 0 1 1 1 0 0 1 1 1 1 1 1 1 1 0 0 1 1 0 1 1 1 1 0 1 1 1 1 1 1 1 0\n",
            " 1 1 1 1 0 0 1 0 1 1 1 0 1 1 0 1 1 1 1 1 1 1 1 1 1 1 1 1 0 0 1 1 1 1 0 1 1\n",
            " 1 1 1 1 1 1 0 1 1 1 1 0 1 0 1 1 0 1 0 1 1 1 1 1 1 0 0 1 1 1 1 1 1 1 0 1 1\n",
            " 0 1 1 0 0 1 1 1 1 0 1 1 0 1 1 1 1 1 1 1 1 0 1 1 0 0 0 1 1 1 1 1 1 0 1 1 1\n",
            " 1 1 0 1 1 1 1 1 1 1 1 1 1 0 1 1 1 0 1 1 1 1 1 1 1 1 1 1 1 0 1 1 1 1 1 1 1\n",
            " 1 1 1 1 1 0 1 1 0 0 1 1 0 1 1 1 1 0 1 1 1 1 1 1 1 1 1 1 1 1 1 1 1 1 1 1 1\n",
            " 0 1 1 1 1 0 0 0 1 0 0 1 1 1 1 1 1 1 1 1 0 0 1 1 1 1 1 1 1 1 1 1 1 1 1 1 0\n",
            " 0 0 0 1 1 1 1 1 1 1 1 0 0 1 0 1 0 1 1 0 1 1 1 1 0 0 1 1 1 1 0 1 1 1 1 1 1\n",
            " 1 0 1 1 1 1 1 1 1 1 1 1 1 1 1 0 0 1 1 1 1 1 1 1 1 1 1 1 1 0 0 1 1 1 1 1 1\n",
            " 1 0 1 1 0 1 1 1 0 0 1 1 1 1 1 1 1 1 1 1 1 1 1 1 1 0 1 1 1 1 1 0 1 0 1 1 1\n",
            " 1 1 1 0 0 1 1 0 1 0 1 1 1 0 1 1 1 1 1 1 1 0 1 1 0 1 1 0 1 1 0 1 1 1 1 1 1\n",
            " 0 1 1 1 1 0 1 0 1 1 1 1 1 0 1 1 1 1 1 1 0 1 1 1 1 0 1 0 1 0 1 1 1 1 1 1 1\n",
            " 1 0 1 0 1 1 1 1 1 1 1 1 1 1 1 0 1 1 1 0 1 1 1 1 1 1 1 1 1 1 1 1 1 1 0 1 1\n",
            " 1 1 1 1 0 1 1 1 1 1 1 1 1 1 1 0 1 1 0 0 1 1 0 1 1 0 0 1 1 0 0 1 1 1 1 1 1\n",
            " 1 0 1 0 0 1 1 1 0 0 1 1 1 1 1 1 1 0 1 1 0 1 1 1 1 1 0 1 1 1 1 1 1 1 0 0 1\n",
            " 1]\n"
          ]
        }
      ]
    },
    {
      "cell_type": "markdown",
      "source": [
        "# 5) Use o módulo Seaborn para visualizar a distribuição de números aleatórios oriunda de uma distribuição binomial, com 6 tentativas, probabilidade 0.5 e tamanho 3000."
      ],
      "metadata": {
        "id": "9l-hUy6DI6eT"
      }
    },
    {
      "cell_type": "code",
      "source": [
        "import matplotlib.pyplot as plt\n",
        "import seaborn as sns \n",
        "from numpy.random import binomial \n",
        "sns.displot(binomial(n = 6, p = 0.5, size = 3000), kind = 'hist')\n",
        "plt.show()"
      ],
      "metadata": {
        "colab": {
          "base_uri": "https://localhost:8080/",
          "height": 369
        },
        "id": "ga9bdaEwI_eo",
        "outputId": "841cbbcd-f7f5-4b63-91ad-3038697b6113"
      },
      "execution_count": null,
      "outputs": [
        {
          "output_type": "display_data",
          "data": {
            "image/png": "[encoded data removed]",
            "text/plain": [
              "<Figure size 360x360 with 1 Axes>"
            ]
          },
          "metadata": {
            "needs_background": "light"
          }
        }
      ]
    },
    {
      "cell_type": "markdown",
      "source": [
        "# 6) A distribuição uniforme é uma distribuição contínua de probabilidade, com importantes aplicações em estatística. Gere uma amostra da distribuição uniforme de shape 3 x 3.\n",
        "Dica: use np.random.uniform()."
      ],
      "metadata": {
        "id": "4xWRqO8sKADe"
      }
    },
    {
      "cell_type": "code",
      "source": [
        "data = random.uniform(size = (3, 3))\n",
        "print(data)"
      ],
      "metadata": {
        "colab": {
          "base_uri": "https://localhost:8080/"
        },
        "id": "L52znoQmKRB5",
        "outputId": "f83affc6-70e5-45b4-89ae-0bf53a515613"
      },
      "execution_count": null,
      "outputs": [
        {
          "output_type": "stream",
          "name": "stdout",
          "text": [
            "[[0.60604103 0.02680782 0.68086377]\n",
            " [0.81573196 0.79573925 0.12779738]\n",
            " [0.48226651 0.25070514 0.79287183]]\n"
          ]
        }
      ]
    },
    {
      "cell_type": "markdown",
      "source": [
        "# 7) Use o módulo Seaborn para visualizar a distribuição de números aleatórios oriunda de uma distribuição uniforme, de tamanho 1000."
      ],
      "metadata": {
        "id": "xPbuNM_DKj7Q"
      }
    },
    {
      "cell_type": "code",
      "source": [
        "data = random.uniform(size = 1000)\n",
        "sns.displot(data, kind = 'kde')\n",
        "plt.show()"
      ],
      "metadata": {
        "colab": {
          "base_uri": "https://localhost:8080/",
          "height": 369
        },
        "id": "VYish2xpKpY1",
        "outputId": "2d787515-1a11-4c7a-a190-927fddbf82a9"
      },
      "execution_count": null,
      "outputs": [
        {
          "output_type": "display_data",
          "data": {
            "image/png": "[encoded data removed]",
            "text/plain": [
              "<Figure size 360x360 with 1 Axes>"
            ]
          },
          "metadata": {
            "needs_background": "light"
          }
        }
      ]
    },
    {
      "cell_type": "code",
      "source": [
        "sns.displot(data, kind = 'hist')\n",
        "plt.show()"
      ],
      "metadata": {
        "colab": {
          "base_uri": "https://localhost:8080/",
          "height": 369
        },
        "id": "l7wORy0UNQWb",
        "outputId": "82f0ac73-aaa7-436d-dd9e-7885b6e41878"
      },
      "execution_count": null,
      "outputs": [
        {
          "output_type": "display_data",
          "data": {
            "image/png": "[encoded data removed]",
            "text/plain": [
              "<Figure size 360x360 with 1 Axes>"
            ]
          },
          "metadata": {
            "needs_background": "light"
          }
        }
      ]
    },
    {
      "cell_type": "markdown",
      "source": [
        "# 1) Gere um array com números aleatórios entre -1000 e 3000, de shape (30, 5).\n",
        "Dica: np.random.randint()."
      ],
      "metadata": {
        "id": "c7ZcxaEGNij2"
      }
    },
    {
      "cell_type": "code",
      "source": [
        "import numpy as np\n",
        "ar = np.random.randint(low = 1000, high = 3000, size = (30, 5))\n",
        "print(ar)"
      ],
      "metadata": {
        "colab": {
          "base_uri": "https://localhost:8080/"
        },
        "id": "sDCCowZYNmvG",
        "outputId": "90d96a18-2881-4b44-b87c-09681a984fa6"
      },
      "execution_count": null,
      "outputs": [
        {
          "output_type": "stream",
          "name": "stdout",
          "text": [
            "[[1961 1888 2171 1721 1765]\n",
            " [1697 2301 2660 1018 1102]\n",
            " [2843 2701 2506 2011 2324]\n",
            " [1772 1705 2406 1391 1313]\n",
            " [1610 2504 1891 2935 2328]\n",
            " [1704 1831 2423 1831 1385]\n",
            " [1888 2390 1577 2279 2627]\n",
            " [1335 1697 1931 2740 2939]\n",
            " [1191 1088 1914 1070 2501]\n",
            " [1505 1780 1480 2809 1469]\n",
            " [2627 1427 2906 1852 1579]\n",
            " [2934 2200 1924 1158 1676]\n",
            " [2914 1626 2960 1671 1038]\n",
            " [2683 2809 1354 1173 2108]\n",
            " [2760 2558 2851 1762 2038]\n",
            " [1110 2653 2453 2572 1041]\n",
            " [2138 2118 1845 1429 1101]\n",
            " [1903 1653 2131 2307 1238]\n",
            " [2709 2120 2259 1792 2060]\n",
            " [1845 1112 2871 2330 2225]\n",
            " [2719 1244 2206 2013 1955]\n",
            " [1617 1064 2628 1872 2305]\n",
            " [1426 2394 1811 2692 1611]\n",
            " [2755 2648 1934 2210 1140]\n",
            " [2795 2532 1501 2795 1406]\n",
            " [1910 1602 1217 1100 1073]\n",
            " [2395 2898 1420 1272 2525]\n",
            " [2901 1482 2015 2153 2520]\n",
            " [2344 1926 2467 2719 1081]\n",
            " [1470 2034 2295 1497 2413]]\n"
          ]
        }
      ]
    },
    {
      "cell_type": "markdown",
      "source": [
        "# 9) Gere um array de shape 30 x 5 com números entre 0 e 4, inclusive."
      ],
      "metadata": {
        "id": "lNzr5E6ZOi68"
      }
    },
    {
      "cell_type": "code",
      "source": [
        "import numpy as np\n",
        "ar = np.random.randint(5, size = (30, 5))\n",
        "print(ar)"
      ],
      "metadata": {
        "colab": {
          "base_uri": "https://localhost:8080/"
        },
        "id": "VnN8SBQZOo-e",
        "outputId": "01388e20-b65a-423f-ac50-d24a2331e3b5"
      },
      "execution_count": null,
      "outputs": [
        {
          "output_type": "stream",
          "name": "stdout",
          "text": [
            "[[2 2 4 4 0]\n",
            " [4 2 2 3 1]\n",
            " [2 1 3 0 2]\n",
            " [1 1 2 0 1]\n",
            " [1 0 1 1 0]\n",
            " [0 3 1 0 3]\n",
            " [3 4 2 3 3]\n",
            " [0 0 3 4 3]\n",
            " [0 3 2 2 4]\n",
            " [4 1 1 2 2]\n",
            " [3 3 4 2 3]\n",
            " [0 0 4 2 4]\n",
            " [3 2 3 2 4]\n",
            " [0 3 0 4 0]\n",
            " [3 4 4 4 3]\n",
            " [4 1 0 3 0]\n",
            " [4 1 3 3 2]\n",
            " [1 4 2 0 1]\n",
            " [1 2 3 3 3]\n",
            " [2 1 0 2 4]\n",
            " [1 2 0 0 1]\n",
            " [4 3 0 1 1]\n",
            " [3 3 0 1 3]\n",
            " [1 1 3 1 1]\n",
            " [3 4 0 2 3]\n",
            " [1 4 2 0 4]\n",
            " [2 1 2 4 0]\n",
            " [0 1 4 4 4]\n",
            " [0 4 2 0 2]\n",
            " [2 2 0 4 3]]\n"
          ]
        }
      ]
    },
    {
      "cell_type": "markdown",
      "source": [
        "# 10) Gere um array de números inteiros com limites superiores diferentes (100, 300, 50, 10000), mas com valor mínimo 10."
      ],
      "metadata": {
        "id": "MxhvRQfVPOca"
      }
    },
    {
      "cell_type": "code",
      "source": [
        "import numpy as np \n",
        "ar = np.random.randint(low = 10, high = [100, 300, 50, 10_000])\n",
        "print(ar)"
      ],
      "metadata": {
        "colab": {
          "base_uri": "https://localhost:8080/"
        },
        "id": "obElIwqAPXiH",
        "outputId": "15412fad-0320-4d78-a813-39e26926648a"
      },
      "execution_count": null,
      "outputs": [
        {
          "output_type": "stream",
          "name": "stdout",
          "text": [
            "[  59  240   11 9681]\n"
          ]
        }
      ]
    },
    {
      "cell_type": "markdown",
      "source": [
        "# 11) Utilize a função np.random.rand() para gerar um array 10 x 5. Lembre que esta função gera por padrão números aleatórios de acordo com uma distribuição uniforme no intervalo [0,1). Em seguida mostre na tela a média, desvio padrão e mediana do array gerado."
      ],
      "metadata": {
        "id": "DfoExL2WP0NK"
      }
    },
    {
      "cell_type": "code",
      "source": [
        "from numpy import random\n",
        "array = random.rand(10, 5)\n",
        "media = array.mean().round(2)\n",
        "desvio_padrao = array.std().round(2)\n",
        "mediana = np.median(array).round(2)\n",
        "print(f'Média: {media}')\n",
        "print(f'Desvio padrão: {desvio_padrao}')\n",
        "print(f'Mediana: {mediana}')"
      ],
      "metadata": {
        "colab": {
          "base_uri": "https://localhost:8080/"
        },
        "id": "FMjHjbPpP5EC",
        "outputId": "1c2f23bc-d5e4-48fa-f547-99d8d442ee90"
      },
      "execution_count": null,
      "outputs": [
        {
          "output_type": "stream",
          "name": "stdout",
          "text": [
            "Média: 0.52\n",
            "Desvio padrão: 0.3\n",
            "Mediana: 0.54\n"
          ]
        }
      ]
    },
    {
      "cell_type": "markdown",
      "source": [
        "# 12) Use a função np.random.randn() para gerar um array com números aleatórios de uma distribuição normal padrão, de shape 30 x 3. Seguidamente, crie um DataFrame com os dados criados e gere uma visualização da distribuição de probabilidade de cada coluna com o módulo Seaborn."
      ],
      "metadata": {
        "id": "sxgpdGwVRF-q"
      }
    },
    {
      "cell_type": "code",
      "source": [
        "import matplotlib.pyplot as plt \n",
        "import seaborn as sns \n",
        "from numpy import random \n",
        "import pandas as pd \n",
        "arr = random.randn(30, 3)\n",
        "df = pd.DataFrame(data = arr, columns = list('ABC'))\n",
        "df.head()"
      ],
      "metadata": {
        "colab": {
          "base_uri": "https://localhost:8080/",
          "height": 206
        },
        "id": "HPkKMdozRJgO",
        "outputId": "11e401e2-31d6-45b5-ac29-9b221fe64c1d"
      },
      "execution_count": null,
      "outputs": [
        {
          "output_type": "execute_result",
          "data": {
            "text/html": [
              "\n",
              "  <div id=\"df-30e9b977-8a09-498b-9bbd-1cd563e8e050\">\n",
              "    <div class=\"colab-df-container\">\n",
              "      <div>\n",
              "<style scoped>\n",
              "    .dataframe tbody tr th:only-of-type {\n",
              "        vertical-align: middle;\n",
              "    }\n",
              "\n",
              "    .dataframe tbody tr th {\n",
              "        vertical-align: top;\n",
              "    }\n",
              "\n",
              "    .dataframe thead th {\n",
              "        text-align: right;\n",
              "    }\n",
              "</style>\n",
              "<table border=\"1\" class=\"dataframe\">\n",
              "  <thead>\n",
              "    <tr style=\"text-align: right;\">\n",
              "      <th></th>\n",
              "      <th>A</th>\n",
              "      <th>B</th>\n",
              "      <th>C</th>\n",
              "    </tr>\n",
              "  </thead>\n",
              "  <tbody>\n",
              "    <tr>\n",
              "      <th>0</th>\n",
              "      <td>1.307515</td>\n",
              "      <td>-0.135159</td>\n",
              "      <td>0.445720</td>\n",
              "    </tr>\n",
              "    <tr>\n",
              "      <th>1</th>\n",
              "      <td>-0.039896</td>\n",
              "      <td>-0.297336</td>\n",
              "      <td>0.324913</td>\n",
              "    </tr>\n",
              "    <tr>\n",
              "      <th>2</th>\n",
              "      <td>0.765140</td>\n",
              "      <td>1.065260</td>\n",
              "      <td>0.583259</td>\n",
              "    </tr>\n",
              "    <tr>\n",
              "      <th>3</th>\n",
              "      <td>0.968216</td>\n",
              "      <td>1.010958</td>\n",
              "      <td>-0.472967</td>\n",
              "    </tr>\n",
              "    <tr>\n",
              "      <th>4</th>\n",
              "      <td>1.248936</td>\n",
              "      <td>0.456422</td>\n",
              "      <td>-0.592848</td>\n",
              "    </tr>\n",
              "  </tbody>\n",
              "</table>\n",
              "</div>\n",
              "      <button class=\"colab-df-convert\" onclick=\"convertToInteractive('df-30e9b977-8a09-498b-9bbd-1cd563e8e050')\"\n",
              "              title=\"Convert this dataframe to an interactive table.\"\n",
              "              style=\"display:none;\">\n",
              "        \n",
              "  <svg xmlns=\"http://www.w3.org/2000/svg\" height=\"24px\"viewBox=\"0 0 24 24\"\n",
              "       width=\"24px\">\n",
              "    <path d=\"M0 0h24v24H0V0z\" fill=\"none\"/>\n",
              "    <path d=\"M18.56 5.44l.94 2.06.94-2.06 2.06-.94-2.06-.94-.94-2.06-.94 2.06-2.06.94zm-11 1L8.5 8.5l.94-2.06 2.06-.94-2.06-.94L8.5 2.5l-.94 2.06-2.06.94zm10 10l.94 2.06.94-2.06 2.06-.94-2.06-.94-.94-2.06-.94 2.06-2.06.94z\"/><path d=\"M17.41 7.96l-1.37-1.37c-.4-.4-.92-.59-1.43-.59-.52 0-1.04.2-1.43.59L10.3 9.45l-7.72 7.72c-.78.78-.78 2.05 0 2.83L4 21.41c.39.39.9.59 1.41.59.51 0 1.02-.2 1.41-.59l7.78-7.78 2.81-2.81c.8-.78.8-2.07 0-2.86zM5.41 20L4 18.59l7.72-7.72 1.47 1.35L5.41 20z\"/>\n",
              "  </svg>\n",
              "      </button>\n",
              "      \n",
              "  <style>\n",
              "    .colab-df-container {\n",
              "      display:flex;\n",
              "      flex-wrap:wrap;\n",
              "      gap: 12px;\n",
              "    }\n",
              "\n",
              "    .colab-df-convert {\n",
              "      background-color: #E8F0FE;\n",
              "      border: none;\n",
              "      border-radius: 50%;\n",
              "      cursor: pointer;\n",
              "      display: none;\n",
              "      fill: #1967D2;\n",
              "      height: 32px;\n",
              "      padding: 0 0 0 0;\n",
              "      width: 32px;\n",
              "    }\n",
              "\n",
              "    .colab-df-convert:hover {\n",
              "      background-color: #E2EBFA;\n",
              "      box-shadow: 0px 1px 2px rgba(60, 64, 67, 0.3), 0px 1px 3px 1px rgba(60, 64, 67, 0.15);\n",
              "      fill: #174EA6;\n",
              "    }\n",
              "\n",
              "    [theme=dark] .colab-df-convert {\n",
              "      background-color: #3B4455;\n",
              "      fill: #D2E3FC;\n",
              "    }\n",
              "\n",
              "    [theme=dark] .colab-df-convert:hover {\n",
              "      background-color: #434B5C;\n",
              "      box-shadow: 0px 1px 3px 1px rgba(0, 0, 0, 0.15);\n",
              "      filter: drop-shadow(0px 1px 2px rgba(0, 0, 0, 0.3));\n",
              "      fill: #FFFFFF;\n",
              "    }\n",
              "  </style>\n",
              "\n",
              "      <script>\n",
              "        const buttonEl =\n",
              "          document.querySelector('#df-30e9b977-8a09-498b-9bbd-1cd563e8e050 button.colab-df-convert');\n",
              "        buttonEl.style.display =\n",
              "          google.colab.kernel.accessAllowed ? 'block' : 'none';\n",
              "\n",
              "        async function convertToInteractive(key) {\n",
              "          const element = document.querySelector('#df-30e9b977-8a09-498b-9bbd-1cd563e8e050');\n",
              "          const dataTable =\n",
              "            await google.colab.kernel.invokeFunction('convertToInteractive',\n",
              "                                                     [key], {});\n",
              "          if (!dataTable) return;\n",
              "\n",
              "          const docLinkHtml = 'Like what you see? Visit the ' +\n",
              "            '<a target=\"_blank\" href=https://colab.research.google.com/notebooks/data_table.ipynb>data table notebook</a>'\n",
              "            + ' to learn more about interactive tables.';\n",
              "          element.innerHTML = '';\n",
              "          dataTable['output_type'] = 'display_data';\n",
              "          await google.colab.output.renderOutput(dataTable, element);\n",
              "          const docLink = document.createElement('div');\n",
              "          docLink.innerHTML = docLinkHtml;\n",
              "          element.appendChild(docLink);\n",
              "        }\n",
              "      </script>\n",
              "    </div>\n",
              "  </div>\n",
              "  "
            ],
            "text/plain": [
              "          A         B         C\n",
              "0  1.307515 -0.135159  0.445720\n",
              "1 -0.039896 -0.297336  0.324913\n",
              "2  0.765140  1.065260  0.583259\n",
              "3  0.968216  1.010958 -0.472967\n",
              "4  1.248936  0.456422 -0.592848"
            ]
          },
          "metadata": {},
          "execution_count": 41
        }
      ]
    },
    {
      "cell_type": "code",
      "source": [
        "sns.displot(df)\n",
        "plt.show()"
      ],
      "metadata": {
        "colab": {
          "base_uri": "https://localhost:8080/",
          "height": 369
        },
        "id": "WjdUc_YcSXzL",
        "outputId": "5ba16995-20ba-4a5b-c40b-71ad49c9661f"
      },
      "execution_count": null,
      "outputs": [
        {
          "output_type": "display_data",
          "data": {
            "image/png": "[encoded data removed]",
            "text/plain": [
              "<Figure size 402.875x360 with 1 Axes>"
            ]
          },
          "metadata": {
            "needs_background": "light"
          }
        }
      ]
    },
    {
      "cell_type": "markdown",
      "source": [
        "# 13) Gere um array com 800 números aleatórios de acordo com uma distribuição exponencial padrão. Use a função np.random.standard_exponential()."
      ],
      "metadata": {
        "id": "Lo0LQMD0d-Xq"
      }
    },
    {
      "cell_type": "code",
      "source": [
        "from numpy import random \n",
        "arr = np.random.standard_exponential(80)\n",
        "print(arr)"
      ],
      "metadata": {
        "colab": {
          "base_uri": "https://localhost:8080/"
        },
        "id": "u4u6p5Z7eD6F",
        "outputId": "a2fbcff9-fff3-4560-e6ea-b6d40a7e7c87"
      },
      "execution_count": null,
      "outputs": [
        {
          "output_type": "stream",
          "name": "stdout",
          "text": [
            "[1.50523662 1.19634252 0.74473312 0.07305629 0.61802904 7.6371061\n",
            " 0.75011    0.2930336  0.42657217 0.579416   0.53177228 0.1938611\n",
            " 1.11984783 3.39698214 0.71365757 4.35949729 1.50979953 0.22525386\n",
            " 0.53994946 0.43989545 0.68411679 0.52904933 1.02717654 3.36529585\n",
            " 0.36614333 0.57769787 0.40135274 1.15340214 0.60576296 0.11732878\n",
            " 0.6595742  0.42110896 0.52172836 0.12567329 0.45915986 2.13878622\n",
            " 0.46862106 0.51569109 4.0225707  0.42191032 0.6136946  0.17101547\n",
            " 2.17605627 0.03891616 0.0392926  0.01690187 0.6780766  0.34645481\n",
            " 0.03436028 1.10113732 0.25186024 2.29041353 1.46558827 0.09851126\n",
            " 0.44096205 0.65958001 0.62136113 0.8204098  0.27680974 0.46336541\n",
            " 0.19011102 0.78903066 2.19754589 0.53627489 3.0656204  1.98796034\n",
            " 0.5347853  1.40638998 1.02070349 0.6229371  0.06698023 1.32295731\n",
            " 1.18631635 0.99457857 0.16626139 1.71253096 0.47982986 0.40729907\n",
            " 2.13426421 0.6314172 ]\n"
          ]
        }
      ]
    },
    {
      "cell_type": "markdown",
      "source": [
        "# 14) A distribuição de Poisson é uma distribuição discreta de probabilidade. Esta distribuição descreve quantas vezes um determinado evento pode ocorrer em um tempo especificado. A biblioteca NumPy permite gerar números aleatórios desta distribuição com a função np.random.poisson(). Gere uma distribuição aleatória de shape 50 x 3, com número conhecido de ocorrências igual a 5."
      ],
      "metadata": {
        "id": "xrXvQ_YweZ_K"
      }
    },
    {
      "cell_type": "code",
      "source": [
        "from numpy import random \n",
        "arr = random.poisson(lam = 5, size = (20, 3))\n",
        "print(arr)"
      ],
      "metadata": {
        "colab": {
          "base_uri": "https://localhost:8080/"
        },
        "id": "alv6pjIUekdk",
        "outputId": "8f9a6281-d410-4e9b-e3e8-07fcd75f6a31"
      },
      "execution_count": null,
      "outputs": [
        {
          "output_type": "stream",
          "name": "stdout",
          "text": [
            "[[ 1  2  3]\n",
            " [11  3  3]\n",
            " [ 9  6  3]\n",
            " [ 3  5  4]\n",
            " [ 1  8  4]\n",
            " [ 3  4  5]\n",
            " [ 5  6  3]\n",
            " [ 2  7  2]\n",
            " [ 3  4  3]\n",
            " [ 1  5  5]\n",
            " [ 3  7  2]\n",
            " [ 3  9  5]\n",
            " [ 7  1  6]\n",
            " [ 4  4  7]\n",
            " [ 6  3  5]\n",
            " [ 9  5  4]\n",
            " [ 6  3  7]\n",
            " [ 6  3  3]\n",
            " [ 5  9  5]\n",
            " [ 4  3  4]]\n"
          ]
        }
      ]
    },
    {
      "cell_type": "markdown",
      "source": [
        "# 15) Gere uma distribuição aleatória de Poisson com 10.000 amostras, em que o número conhecido de ocorrências é igual 3. Armazene os dados em um objeto Pandas Series."
      ],
      "metadata": {
        "id": "SyfaCsHKe5Go"
      }
    },
    {
      "cell_type": "code",
      "source": [
        "import matplotlib.pyplot as plt \n",
        "import seaborn as sns \n",
        "import pandas as pd\n",
        "from numpy.random import poisson\n",
        "\n",
        "arr = poisson(lam = 3, size = 10_000)\n",
        "series = pd.Series(arr, name = 'Poisson')\n",
        "\n",
        "sns.histplot(series, kde = True)\n",
        "plt.show()"
      ],
      "metadata": {
        "colab": {
          "base_uri": "https://localhost:8080/",
          "height": 279
        },
        "id": "DJ_87r4Ee-wf",
        "outputId": "084150e6-6a3b-42b3-f8bd-5cc494c3ebad"
      },
      "execution_count": null,
      "outputs": [
        {
          "output_type": "display_data",
          "data": {
            "image/png": "[encoded data removed]",
            "text/plain": [
              "<Figure size 432x288 with 1 Axes>"
            ]
          },
          "metadata": {
            "needs_background": "light"
          }
        }
      ]
    },
    {
      "cell_type": "markdown",
      "source": [
        "# 16) A função np.random.choice() gera uma amostra aleatória de um array unidimensional. Gere uma amostra aleatória de tamanho 10, a partir das letras 'a', 'b', 'c', 'd'."
      ],
      "metadata": {
        "id": "lINhH80BgGqD"
      }
    },
    {
      "cell_type": "code",
      "source": [
        "from numpy import random\n",
        "arr = random.choice(['a', 'b', 'c', 'd'], size = 10)\n",
        "print(arr)\n"
      ],
      "metadata": {
        "colab": {
          "base_uri": "https://localhost:8080/"
        },
        "id": "E7HphY5pgMBM",
        "outputId": "d5b0353e-9613-423b-e8b4-83e66458d16f"
      },
      "execution_count": null,
      "outputs": [
        {
          "output_type": "stream",
          "name": "stdout",
          "text": [
            "['d' 'a' 'a' 'd' 'c' 'd' 'c' 'd' 'd' 'd']\n"
          ]
        }
      ]
    },
    {
      "cell_type": "markdown",
      "source": [
        "# 17) Gere um DataFrame com 7 colunas e 100 linhas, com as seguintes características:\n",
        "\n",
        "### . a coluna 'A' segue uma distribuição normal padrão;\n",
        "\n",
        "### . a coluna 'B' segue uma distribuição uniforme;\n",
        "\n",
        "### . a coluna 'C' segue uma distribuição binomial, com 6 tentativas e probabilidade de sucesso 0.6;\n",
        "\n",
        "### . a coluna 'D' segue uma distribuição exponencial padrão;\n",
        "\n",
        "### . a coluna 'E' segue uma distribuição de Poisson com número conhecido de ocorrências igual a 10;\n",
        "\n",
        "### . a coluna 'F' segue uma distribuição normal de média 100 e desvio padrão 15;\n",
        "\n",
        "### . a coluna 'G' possui números aleatórios inteiros entre 50 e 3000."
      ],
      "metadata": {
        "id": "6jOC1bVMh-ED"
      }
    },
    {
      "cell_type": "code",
      "source": [
        "import pandas as pd \n",
        "from numpy import random\n",
        "n = 100 #quantidade de observações \n",
        "data = {\n",
        "    'A': random.normal(size = n),\n",
        "    'B': random.uniform(size = n),\n",
        "    'C': random.binomial(n = 6, p = 0.6, size = n),\n",
        "    'D': random.standard_exponential(size = n),\n",
        "    'E': random.poisson(lam = 10, size = n),\n",
        "    'F': random.normal(loc = 100, scale = 15, size = n),\n",
        "    'G': random.randint(low = 50, high = 3000, size = n)}\n",
        "df = pd.DataFrame(data)\n",
        "print(df)\n",
        "print(data)"
      ],
      "metadata": {
        "colab": {
          "base_uri": "https://localhost:8080/"
        },
        "id": "H0uKQ-QJi-ow",
        "outputId": "efc9cf22-6661-4615-9aa2-93c2ccfdaf2b"
      },
      "execution_count": null,
      "outputs": [
        {
          "output_type": "stream",
          "name": "stdout",
          "text": [
            "           A         B  C         D   E           F     G\n",
            "0  -0.382288  0.854931  0  0.044559   6   68.910209   389\n",
            "1   0.719760  0.721745  2  3.578219   7   84.921669  1580\n",
            "2  -0.580797  0.363236  4  1.486153  14   98.609671   678\n",
            "3   1.442336  0.033959  3  0.305108   7   98.637507   422\n",
            "4  -0.096180  0.586165  5  0.092788   7  120.431039   553\n",
            "..       ...       ... ..       ...  ..         ...   ...\n",
            "95  1.340782  0.380399  3  0.306360  10  104.875015   547\n",
            "96 -0.756444  0.267960  4  1.409553   9   87.409804  2567\n",
            "97  0.371172  0.675660  2  5.936192   9   68.952688   457\n",
            "98  0.531642  0.618588  2  0.275337   7  110.848999  1090\n",
            "99 -0.009622  0.302973  3  0.098493   6  106.770052  1964\n",
            "\n",
            "[100 rows x 7 columns]\n",
            "{'A': array([-0.38228751,  0.71976   , -0.58079735,  1.44233569, -0.0961795 ,\n",
            "        0.86421516, -0.0622904 ,  0.08636833,  1.20058942, -0.46960287,\n",
            "        0.63624542,  0.19897489, -0.17181545, -0.53893931,  1.03825639,\n",
            "        0.71692373, -0.99042666, -0.23184502,  0.11491348, -0.01706204,\n",
            "       -0.13856971,  1.42392088, -0.6103142 , -0.16106816,  0.37185526,\n",
            "       -0.1261981 , -1.32270971, -0.51717387,  1.46782437,  1.68717181,\n",
            "       -2.0813351 ,  0.31203881, -0.0050675 , -0.52139547, -0.94347546,\n",
            "       -0.36781064, -0.42253015,  0.37061659, -0.72717501,  1.3576789 ,\n",
            "        1.61494545, -0.29413193,  0.07871016,  0.28888115,  0.07331575,\n",
            "        0.72219068,  0.22767272, -0.25231622,  0.05941449,  0.70874326,\n",
            "       -1.25234439,  1.75523274,  0.79423672,  0.18536456,  0.51031888,\n",
            "        0.1530655 , -0.21050189,  0.17147454,  1.03635326, -0.15083438,\n",
            "        0.5712996 ,  0.47367152,  0.5341437 ,  0.57954171, -0.49253388,\n",
            "       -0.7082162 ,  1.62559784,  0.56062143,  1.70891872,  0.62082291,\n",
            "       -0.05606374, -0.37188242, -0.89105177, -0.22224343, -0.78352864,\n",
            "       -1.10236773, -0.51493093,  1.13574749, -1.81235864, -1.33009455,\n",
            "       -0.16568508,  1.83970462, -0.66766198,  3.36821344,  0.089409  ,\n",
            "       -0.76611757, -1.0755181 ,  1.41805149, -0.77793007,  0.62965393,\n",
            "        0.27692577, -0.19358921,  0.51872828,  1.6808784 , -0.66927795,\n",
            "        1.3407816 , -0.75644405,  0.37117167,  0.53164157, -0.00962171]), 'B': array([0.85493109, 0.72174475, 0.36323581, 0.03395926, 0.58616464,\n",
            "       0.69986838, 0.96928999, 0.39922462, 0.6545911 , 0.82678727,\n",
            "       0.48205368, 0.35703477, 0.77256567, 0.52005774, 0.66433356,\n",
            "       0.01177585, 0.10378403, 0.51990434, 0.60092924, 0.81879668,\n",
            "       0.19888438, 0.6034123 , 0.89981708, 0.70152666, 0.31262772,\n",
            "       0.30487005, 0.57030276, 0.15302352, 0.15564703, 0.97589944,\n",
            "       0.37145628, 0.83854622, 0.67163139, 0.86880063, 0.8743173 ,\n",
            "       0.21879622, 0.35686243, 0.7497011 , 0.30530519, 0.69526868,\n",
            "       0.63668212, 0.47358342, 0.78851513, 0.29817731, 0.17249003,\n",
            "       0.28967053, 0.54025642, 0.69110332, 0.93058614, 0.07998618,\n",
            "       0.46388669, 0.8433438 , 0.42736597, 0.46858793, 0.60218439,\n",
            "       0.14245335, 0.24038564, 0.7780809 , 0.74255529, 0.11126563,\n",
            "       0.71181531, 0.2617197 , 0.48694514, 0.52807572, 0.83257293,\n",
            "       0.05013563, 0.7315943 , 0.92845957, 0.76895394, 0.20488901,\n",
            "       0.85883657, 0.46124989, 0.43262482, 0.50324432, 0.44548837,\n",
            "       0.30067287, 0.6889017 , 0.94128916, 0.89640297, 0.81423833,\n",
            "       0.37653518, 0.56204718, 0.09893197, 0.42564081, 0.70721415,\n",
            "       0.95935022, 0.60933314, 0.13932336, 0.01404319, 0.18159437,\n",
            "       0.49202219, 0.83082269, 0.19662851, 0.46654404, 0.58278178,\n",
            "       0.38039913, 0.26796032, 0.67566019, 0.61858757, 0.30297312]), 'C': array([0, 2, 4, 3, 5, 3, 3, 2, 3, 4, 4, 3, 6, 1, 2, 3, 4, 3, 5, 3, 3, 3,\n",
            "       3, 5, 2, 3, 2, 3, 2, 4, 4, 5, 5, 4, 4, 4, 5, 4, 5, 5, 2, 3, 4, 5,\n",
            "       4, 4, 3, 4, 4, 3, 4, 2, 4, 3, 3, 4, 3, 4, 2, 3, 2, 4, 2, 3, 3, 3,\n",
            "       1, 5, 5, 4, 3, 5, 4, 2, 5, 1, 3, 4, 3, 3, 3, 4, 3, 4, 2, 6, 4, 4,\n",
            "       4, 6, 3, 4, 4, 4, 3, 3, 4, 2, 2, 3]), 'D': array([0.04455936, 3.57821881, 1.4861534 , 0.30510794, 0.09278759,\n",
            "       0.85435105, 2.40556789, 2.87485644, 0.23732987, 0.15916634,\n",
            "       1.37930797, 2.68794689, 0.61113521, 1.34666747, 2.2903932 ,\n",
            "       0.71739257, 1.27883659, 0.60528379, 2.69524776, 2.69429223,\n",
            "       0.33311929, 0.00724508, 3.4294956 , 0.66702393, 2.41380385,\n",
            "       5.62103072, 0.64840853, 0.30643818, 0.03888223, 0.16416899,\n",
            "       0.54329039, 0.15424529, 0.84858384, 0.18130438, 0.77211836,\n",
            "       0.34452053, 2.17122082, 0.49467939, 2.97659602, 1.37767114,\n",
            "       0.42930676, 0.4942199 , 1.05412993, 0.71534196, 0.19003204,\n",
            "       0.98384736, 0.80262947, 0.18529094, 0.43915335, 4.89978305,\n",
            "       0.76893611, 0.54198974, 0.57333416, 0.21444791, 1.24438643,\n",
            "       0.56642571, 0.9529385 , 0.13624308, 0.69530793, 0.35620443,\n",
            "       0.99457977, 0.37127334, 0.0510176 , 0.12807391, 0.11197864,\n",
            "       2.08187381, 0.83089502, 0.35751362, 0.55119337, 1.72534494,\n",
            "       1.1151514 , 0.61925567, 0.03374062, 0.81771783, 0.29629548,\n",
            "       0.8410202 , 1.29767171, 0.01072577, 0.04308346, 0.48772832,\n",
            "       3.40978255, 1.58250799, 1.04734461, 0.49399101, 0.12732475,\n",
            "       1.59854396, 0.4076959 , 0.33793581, 2.71880885, 2.85520057,\n",
            "       1.28413331, 0.17845268, 0.20138193, 1.13945097, 0.85071303,\n",
            "       0.30636011, 1.40955256, 5.93619231, 0.27533675, 0.09849306]), 'E': array([ 6,  7, 14,  7,  7,  1,  9, 12,  6,  8,  7,  5, 11,  6, 12,  8, 13,\n",
            "       14,  9,  7, 10, 11,  4, 10,  9, 10,  7, 11, 12,  6,  6, 10,  9,  8,\n",
            "       11, 10, 13,  8, 10,  9,  5, 11, 14, 10,  6,  9, 14,  7, 11, 10,  7,\n",
            "        7, 11,  7, 10, 13, 22,  8, 14, 10, 11,  9, 13, 12,  8, 13, 12, 17,\n",
            "        8,  9,  9, 14, 10,  8, 13, 13,  6,  5, 11,  5,  8,  9, 13,  6,  8,\n",
            "       16,  7,  8,  9,  8,  6,  7,  9,  5, 10, 10,  9,  9,  7,  6]), 'F': array([ 68.91020866,  84.92166851,  98.60967093,  98.63750697,\n",
            "       120.43103944, 104.90351315,  98.97221482,  70.22942385,\n",
            "        92.22453107,  87.47224139,  99.49448726,  90.0409524 ,\n",
            "        85.89156539,  97.94392049,  51.03716805, 108.96068606,\n",
            "        91.52389783,  90.59013418,  97.84966012, 123.23967948,\n",
            "        90.97740987, 101.25039306, 107.82740299,  92.9471492 ,\n",
            "       105.95544511,  87.89955498, 107.60778307,  87.61677866,\n",
            "       102.20534839,  67.70458554, 107.51568254,  82.62982092,\n",
            "        94.91312374, 100.45078578, 105.70076218, 104.19875354,\n",
            "        99.58037131,  86.30324313,  69.56285544, 108.74937081,\n",
            "        98.11504665,  75.32175626,  97.84626896, 104.82417359,\n",
            "       128.04032327, 114.55050365,  84.48588556,  91.11829882,\n",
            "        74.13387128,  81.49656517,  80.18284754,  84.217346  ,\n",
            "        91.60230494,  96.6132961 ,  89.24490102,  87.23611318,\n",
            "       102.60058295, 110.74663583,  91.11477807, 102.88793521,\n",
            "       108.18658885, 105.69954022,  71.45160373,  81.82509469,\n",
            "       103.47896231,  91.08371854,  85.25373838, 102.2219215 ,\n",
            "        80.6359607 , 100.97494627,  99.41645371, 103.94947291,\n",
            "       128.08563746,  74.576431  , 117.15534721,  76.81196957,\n",
            "       103.10811616,  86.78447282,  90.06845991,  89.65539457,\n",
            "        93.30521054,  91.37290735,  93.95157724,  97.1080457 ,\n",
            "        83.54549355, 103.79436362, 100.09432097,  85.06802832,\n",
            "        92.98470608, 118.99156457, 101.82964501,  79.29226634,\n",
            "        83.72042847,  84.72297598,  95.32764405, 104.87501486,\n",
            "        87.40980435,  68.95268849, 110.84899915, 106.77005177]), 'G': array([ 389, 1580,  678,  422,  553, 2498,  263, 2687,  520, 1730,  418,\n",
            "       1145, 2746, 2095,  770, 2141,  406, 2769, 2978, 2666, 2807, 1264,\n",
            "        109, 2143, 2515, 2247, 1443, 2969,  297, 1757, 2620,  922, 1883,\n",
            "       2973,   66, 2693, 2129, 2761, 1266, 1696,  457, 2067, 2923, 2185,\n",
            "       1027, 1360,  366,  941, 2049, 1868, 1564,  937,  634,  358,  253,\n",
            "        860, 1213,  862,  387, 2154, 1115, 1825, 1712,  624, 1690, 1658,\n",
            "       1914, 1708, 1597, 2169, 2344,  549, 2612, 2481,  100, 2543,  406,\n",
            "       1065,  399, 2251,  703,  698,  450, 2487,  815,  377, 1824, 2335,\n",
            "       1293,  652, 2518,  417, 1691, 2779,  815,  547, 2567,  457, 1090,\n",
            "       1964])}\n"
          ]
        }
      ]
    },
    {
      "cell_type": "markdown",
      "source": [
        "# 18) Gere uma amostra da distribuição Qui-Quadrado com 3 graus de liberdade e shape 5 x 5;\n",
        "\n",
        "# Gere uma amostra da distribuição Qui-Quadrado com 2 graus de liberdade e tamanho 2.000 e plot um gráfico para visualizar a distribuição de probabilidade gerada;\n",
        "\n",
        "# Gere uma amostra de uma distribuição Exponencial com scale 5 e shape 2 x 2."
      ],
      "metadata": {
        "id": "K2wwStGHlemi"
      }
    },
    {
      "cell_type": "code",
      "source": [
        "import matplotlib.pyplot as plt\n",
        "import seaborn as sns \n",
        "from numpy import random \n",
        "arr1 = random.chisquare(df = 3, size = (5, 5))\n",
        "print(arr1)"
      ],
      "metadata": {
        "colab": {
          "base_uri": "https://localhost:8080/"
        },
        "id": "99ljnWvhlrhN",
        "outputId": "d7194ba2-7634-4a69-bfba-8631ea5c3be0"
      },
      "execution_count": null,
      "outputs": [
        {
          "output_type": "stream",
          "name": "stdout",
          "text": [
            "[[ 6.92693456  1.67488663  4.19220748  2.7932232   0.13146708]\n",
            " [ 2.39782673  2.64917739  4.08135589  4.4604255   0.44749047]\n",
            " [ 7.94636881  4.45145075  3.1952221   2.934653    6.83124898]\n",
            " [11.52835365  5.41819091  1.1747439   1.92262877  3.78623787]\n",
            " [ 0.70582194  1.44870662  4.24729788  1.39575224  5.61279247]]\n"
          ]
        }
      ]
    },
    {
      "cell_type": "code",
      "source": [
        "arr2 = random.chisquare(df = 2, size = 2_000)\n",
        "plt.figure(figsize = (10, 8))\n",
        "sns.histplot(arr2, kde = True, color = 'red');"
      ],
      "metadata": {
        "colab": {
          "base_uri": "https://localhost:8080/",
          "height": 483
        },
        "id": "XWItEPuGmWFg",
        "outputId": "3ffbde0c-1d30-4b84-ba2c-25c453a3bf3d"
      },
      "execution_count": null,
      "outputs": [
        {
          "output_type": "display_data",
          "data": {
            "image/png": "[encoded data removed]",
            "text/plain": [
              "<Figure size 720x576 with 1 Axes>"
            ]
          },
          "metadata": {
            "needs_background": "light"
          }
        }
      ]
    },
    {
      "cell_type": "code",
      "source": [
        "arr3 = random.exponential(scale = 5, size = (2, 2))\n",
        "print(arr3)"
      ],
      "metadata": {
        "colab": {
          "base_uri": "https://localhost:8080/"
        },
        "id": "cssm3OC2m93F",
        "outputId": "23e9bbff-5a54-4e6c-e5f0-42d430142fe4"
      },
      "execution_count": null,
      "outputs": [
        {
          "output_type": "stream",
          "name": "stdout",
          "text": [
            "[[1.86585363 7.14887233]\n",
            " [0.43163115 1.22538094]]\n"
          ]
        }
      ]
    },
    {
      "cell_type": "markdown",
      "source": [
        "# 19) A distribuição logística é amplamente utilizada em Machine Learning e Redes Neurais. Gere um vetor com números aleatórios de uma amostra de tamanho 100, gerado por meio de uma distribuição logística com média 5 e desvio padrão 0.9."
      ],
      "metadata": {
        "id": "h3d8JlEnnUuO"
      }
    },
    {
      "cell_type": "code",
      "source": [
        "from numpy import random\n",
        "arr = random.logistic(loc = 5, scale = 0.9, size = 100)\n",
        "print(arr)"
      ],
      "metadata": {
        "colab": {
          "base_uri": "https://localhost:8080/"
        },
        "id": "oG2KWylpniVX",
        "outputId": "5037e6eb-96ac-4841-a9ee-7b02218051a8"
      },
      "execution_count": null,
      "outputs": [
        {
          "output_type": "stream",
          "name": "stdout",
          "text": [
            "[ 1.29432516e+00  6.75320309e+00  2.38046639e+00  4.96284423e+00\n",
            "  4.64936194e+00  3.98258785e+00  8.53766404e+00  5.50233597e+00\n",
            "  8.11350759e+00  5.62541525e+00  2.20174040e+00  7.00741909e+00\n",
            "  6.41071089e+00  1.53687010e+00  7.23724511e+00  3.83143018e+00\n",
            "  6.46054261e+00  6.76387851e+00  4.81272882e+00  3.28862445e+00\n",
            "  5.74447151e+00  7.81112987e+00  4.66134141e+00  1.51476191e+00\n",
            "  6.98548544e+00  6.95082661e+00  3.92736385e+00  7.70302963e+00\n",
            "  6.27986169e+00  4.59634515e+00  5.69050472e+00  5.63621531e+00\n",
            "  7.09744200e+00  4.40159671e+00  3.66118502e+00  5.37942234e+00\n",
            "  9.65976198e+00  7.50067689e+00  3.75720791e+00  6.56883779e+00\n",
            "  4.93736704e+00  4.63463486e+00  7.31093625e+00  5.43263154e+00\n",
            "  6.39385410e+00  4.00781471e+00  6.95910273e+00  3.84911778e+00\n",
            "  6.39555865e+00  3.08413952e+00  3.45972553e+00  2.11417417e+00\n",
            "  1.94363086e+00  4.18363684e+00 -5.50964011e-03  5.44419708e+00\n",
            "  3.60568479e+00  6.82650942e+00  5.08502096e+00  6.04290710e+00\n",
            "  4.68427886e+00  4.47526230e+00  8.59459521e+00  4.56337111e+00\n",
            "  5.86517211e+00  4.79711151e+00  6.28335214e+00  3.69703787e+00\n",
            "  6.10476431e+00  3.14818750e+00  4.12531706e+00  3.99732880e+00\n",
            "  8.02843645e+00  5.77342518e+00  5.24087882e+00  4.81005640e+00\n",
            "  5.60300562e+00  2.14575127e+00  5.06143223e+00  5.48759921e+00\n",
            "  5.14512004e+00  4.69424691e+00  2.96201310e+00  3.29552102e+00\n",
            "  9.04755967e-01  4.96016984e+00  4.61336871e+00  5.07066116e+00\n",
            "  5.39491446e+00  2.91838669e+00  6.84191787e+00  6.18614206e+00\n",
            "  4.83667819e+00  4.82612416e+00  2.12236636e+00  5.84464735e+00\n",
            " -2.33134739e+00  3.96422960e+00  4.52731418e+00  4.04842368e+00]\n"
          ]
        }
      ]
    },
    {
      "cell_type": "markdown",
      "source": [
        "# 20) Construa dois vetores de tamanho 100, com média 1 e desvio padrão 0.5, sendo que o primeiro segue uma distribuição normal, ao passo que o segundo vetor segue uma distribuição logística. Em seguida construa um DataFrame com os números aleatórios criados e gere um gráfico único que mostre ambas as distribuições aleatórias geradas."
      ],
      "metadata": {
        "id": "VBT2vcRAn-5P"
      }
    },
    {
      "cell_type": "code",
      "source": [
        "import matplotlib.pyplot as plt \n",
        "import seaborn as sns \n",
        "import pandas as pd\n",
        "from numpy import random "
      ],
      "metadata": {
        "id": "9RFEM4DOoK7J"
      },
      "execution_count": null,
      "outputs": []
    },
    {
      "cell_type": "markdown",
      "source": [
        "Construindo os vetores e armazenando em um DataFrame:"
      ],
      "metadata": {
        "id": "IHUQdnuXopCb"
      }
    },
    {
      "cell_type": "code",
      "source": [
        "arr1 = random.normal(loc = 1, scale = 0.5, size = 100)\n",
        "arr2 = random.logistic(loc = 1, scale = 0.5, size = 100)\n",
        "df = pd.DataFrame({'Normal': arr1, 'Logistic': arr2})\n",
        "print(df)"
      ],
      "metadata": {
        "colab": {
          "base_uri": "https://localhost:8080/"
        },
        "id": "Agl3vho1os7H",
        "outputId": "988a4ad2-abb1-41f1-898f-727a3c49566b"
      },
      "execution_count": null,
      "outputs": [
        {
          "output_type": "stream",
          "name": "stdout",
          "text": [
            "      Normal  Logistic\n",
            "0   0.462569  0.557337\n",
            "1   2.411753  2.615305\n",
            "2   0.748868  0.522228\n",
            "3  -0.396432  1.871101\n",
            "4   0.510133  0.375882\n",
            "..       ...       ...\n",
            "95  0.683211  2.611813\n",
            "96  1.296012 -0.539675\n",
            "97  1.098375  1.433052\n",
            "98  1.011028  1.284157\n",
            "99  1.575695  2.289228\n",
            "\n",
            "[100 rows x 2 columns]\n"
          ]
        }
      ]
    },
    {
      "cell_type": "markdown",
      "source": [
        "Construindo o plot:"
      ],
      "metadata": {
        "id": "YLTcpBXupdqK"
      }
    },
    {
      "cell_type": "code",
      "source": [
        "dist = ['Normal', 'Logistic']\n",
        "plt.figure(figsize = (8, 5))\n",
        "sns.kdeplot(data = df, x = 'Normal')\n",
        "sns.kdeplot(data = df, x = 'Logistic')\n",
        "plt.legend(dist, loc = 'upper left')\n",
        "plt.xlabel('Valores')\n",
        "plt.show()"
      ],
      "metadata": {
        "colab": {
          "base_uri": "https://localhost:8080/",
          "height": 334
        },
        "id": "bBjIQHQ0pgdo",
        "outputId": "b04b0908-a240-4e3a-a75e-c5d33bf7a17f"
      },
      "execution_count": null,
      "outputs": [
        {
          "output_type": "display_data",
          "data": {
            "image/png": "[encoded data removed]",
            "text/plain": [
              "<Figure size 576x360 with 1 Axes>"
            ]
          },
          "metadata": {
            "needs_background": "light"
          }
        }
      ]
    }
  ]
}